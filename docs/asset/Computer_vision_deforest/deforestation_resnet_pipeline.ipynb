{
 "cells": [
  {
   "cell_type": "markdown",
   "id": "e9536c48",
   "metadata": {},
   "source": [
    "\n",
    "# 🌳 Détection de déforestation — Pipeline ResNet50 (TensorFlow/Keras)\n",
    "\n",
    "**Objectif :** pipeline complet, robuste et reproductible pour classer des patches *déforestation* vs *no\\_deforestation* à partir d'images dans le dossier `archive/`.\n",
    "\n",
    "**Points clés :**\n",
    "- Chargement **stratifié** avec `image_dataset_from_directory`\n",
    "- **Augmentation** \"on-the-fly\" (pas sur disque)\n",
    "- **Prétraitement** `preprocess_input` compatible ResNet\n",
    "- Gestion du **déséquilibre** (`class_weight`)\n",
    "- **Callbacks** (EarlyStopping, ReduceLROnPlateau, Checkpoint)\n",
    "- **Fine-tuning** léger (queue de ResNet)\n",
    "- Évaluation avec **seuil optimal** (F1) + matrice de confusion\n",
    "- **TTA** \n",
    "\n",
    "> Arborescence attendue :  \n",
    "> `archive/` contient **deux sous-dossiers** : `no_deforestation/` et `deforestation/`.\n"
   ]
  },
  {
   "cell_type": "code",
   "execution_count": 1,
   "id": "40b29b19",
   "metadata": {},
   "outputs": [
    {
     "name": "stdout",
     "output_type": "stream",
     "text": [
      "TensorFlow: 2.15.0\n",
      "GPU available: [PhysicalDevice(name='/physical_device:GPU:0', device_type='GPU')]\n"
     ]
    }
   ],
   "source": [
    "\n",
    "# =========================\n",
    "# 0) Préambule & versions\n",
    "# =========================\n",
    "import os, random, numpy as np, tensorflow as tf\n",
    "from pathlib import Path\n",
    "\n",
    "SEED = 1337\n",
    "random.seed(SEED); np.random.seed(SEED); tf.random.set_seed(SEED)\n",
    "\n",
    "print(\"TensorFlow:\", tf.__version__)\n",
    "print(\"GPU available:\", tf.config.list_physical_devices('GPU'))\n",
    "\n",
    "# Répertoire projet (ce notebook doit être lancé depuis la racine du projet)\n",
    "BASE_DIR = Path.cwd()\n",
    "DATA_DIR = (BASE_DIR / \"archive\").as_posix()  # archive/no_deforestation, archive/deforestation\n",
    "IMG_SIZE = (224, 224)\n",
    "BATCH    = 32\n"
   ]
  },
  {
   "cell_type": "code",
   "execution_count": 2,
   "id": "2697a6a6",
   "metadata": {},
   "outputs": [
    {
     "name": "stdout",
     "output_type": "stream",
     "text": [
      "Found 4122 files belonging to 2 classes.\n",
      "Using 3298 files for training.\n",
      "Found 4122 files belonging to 2 classes.\n",
      "Using 824 files for validation.\n"
     ]
    },
    {
     "name": "stderr",
     "output_type": "stream",
     "text": [
      "2025-10-10 13:47:44.596383: I metal_plugin/src/device/metal_device.cc:1154] Metal device set to: Apple M2\n",
      "2025-10-10 13:47:44.596423: I metal_plugin/src/device/metal_device.cc:296] systemMemory: 8.00 GB\n",
      "2025-10-10 13:47:44.596432: I metal_plugin/src/device/metal_device.cc:313] maxCacheSize: 2.67 GB\n",
      "2025-10-10 13:47:44.596676: I tensorflow/core/common_runtime/pluggable_device/pluggable_device_factory.cc:306] Could not identify NUMA node of platform GPU ID 0, defaulting to 0. Your kernel may not have been built with NUMA support.\n",
      "2025-10-10 13:47:44.597117: I tensorflow/core/common_runtime/pluggable_device/pluggable_device_factory.cc:272] Created TensorFlow device (/job:localhost/replica:0/task:0/device:GPU:0 with 0 MB memory) -> physical PluggableDevice (device: 0, name: METAL, pci bus id: <undefined>)\n"
     ]
    },
    {
     "name": "stdout",
     "output_type": "stream",
     "text": [
      "Batches train: 104   (≈ 3328 images)\n",
      "Batches val  : 26   (≈ 832 images)\n"
     ]
    }
   ],
   "source": [
    "\n",
    "# ======================================\n",
    "# 1) Chargement images & split intégrés\n",
    "# ======================================\n",
    "from tensorflow.keras.utils import image_dataset_from_directory\n",
    "\n",
    "train_ds = image_dataset_from_directory(\n",
    "    DATA_DIR,\n",
    "    labels=\"inferred\",\n",
    "    label_mode=\"int\",     # 0/1\n",
    "    class_names=[\"no_deforestation\", \"deforestation\"],  # ordre fixé\n",
    "    validation_split=0.2,\n",
    "    subset=\"training\",\n",
    "    seed=SEED,\n",
    "    image_size=IMG_SIZE,\n",
    "    batch_size=BATCH,\n",
    ")\n",
    "\n",
    "val_ds = image_dataset_from_directory(\n",
    "    DATA_DIR,\n",
    "    labels=\"inferred\",\n",
    "    label_mode=\"int\",\n",
    "    class_names=[\"no_deforestation\", \"deforestation\"],\n",
    "    validation_split=0.2,\n",
    "    subset=\"validation\",\n",
    "    seed=SEED,\n",
    "    image_size=IMG_SIZE,\n",
    "    batch_size=BATCH,\n",
    ")\n",
    "\n",
    "num_train = train_ds.cardinality().numpy() * BATCH\n",
    "num_val   = val_ds.cardinality().numpy() * BATCH\n",
    "print(\"Batches train:\", train_ds.cardinality().numpy(), \"  (≈\", num_train, \"images)\")\n",
    "print(\"Batches val  :\", val_ds.cardinality().numpy(), \"  (≈\", num_val,   \"images)\")\n"
   ]
  },
  {
   "cell_type": "code",
   "execution_count": 3,
   "id": "4153ab43",
   "metadata": {},
   "outputs": [],
   "source": [
    "\n",
    "# ============================================\n",
    "# 2) Augmentation \"on-the-fly\" + preprocess\n",
    "# ============================================\n",
    "from tensorflow.keras import layers\n",
    "from tensorflow.keras.applications.resnet import preprocess_input\n",
    "\n",
    "augment = tf.keras.Sequential([\n",
    "    layers.RandomFlip(\"horizontal_and_vertical\"),\n",
    "    layers.RandomRotation(1.0),\n",
    "    layers.RandomZoom(0.10),\n",
    "    layers.RandomTranslation(0.05, 0.05),\n",
    "])\n",
    "\n",
    "def add_preproc(ds, training=True):\n",
    "    ds = ds.map(lambda x,y: (tf.cast(x, tf.float32), y))\n",
    "    if training:\n",
    "        ds = ds.map(lambda x,y: (augment(x), y))\n",
    "    ds = ds.map(lambda x,y: (preprocess_input(x), y))\n",
    "    return ds.prefetch(tf.data.AUTOTUNE)\n",
    "\n",
    "train_ds_pp = add_preproc(train_ds, training=True)\n",
    "val_ds_pp   = add_preproc(val_ds,   training=False)\n"
   ]
  },
  {
   "cell_type": "code",
   "execution_count": 4,
   "id": "06c8648d",
   "metadata": {},
   "outputs": [
    {
     "name": "stdout",
     "output_type": "stream",
     "text": [
      "Répartition train: {0: 1622, 1: 1676}\n",
      "class_weight     : {0: 1.0166461159062885, 1: 0.983890214797136}\n"
     ]
    }
   ],
   "source": [
    "\n",
    "# ==================================\n",
    "# 3) Gestion du déséquilibre (poids)\n",
    "# ==================================\n",
    "# On parcourt le train_ds (sans préproc nécessaire) pour collecter les labels\n",
    "ys_list = []\n",
    "for xb, yb in train_ds:\n",
    "    ys_list.append(yb.numpy())\n",
    "ys = np.concatenate(ys_list, axis=0)\n",
    "\n",
    "classes, counts = np.unique(ys, return_counts=True)\n",
    "class_weight = {int(c): float(sum(counts)/(len(classes)*cnt)) for c, cnt in zip(classes, counts)}\n",
    "print(\"Répartition train:\", dict(zip(classes, counts)))\n",
    "print(\"class_weight     :\", class_weight)\n"
   ]
  },
  {
   "cell_type": "code",
   "execution_count": 5,
   "id": "96a81bd4",
   "metadata": {},
   "outputs": [
    {
     "name": "stderr",
     "output_type": "stream",
     "text": [
      "WARNING:absl:At this time, the v2.11+ optimizer `tf.keras.optimizers.Adam` runs slowly on M1/M2 Macs, please use the legacy Keras optimizer instead, located at `tf.keras.optimizers.legacy.Adam`.\n"
     ]
    },
    {
     "name": "stdout",
     "output_type": "stream",
     "text": [
      "Model: \"model\"\n",
      "_________________________________________________________________\n",
      " Layer (type)                Output Shape              Param #   \n",
      "=================================================================\n",
      " input_2 (InputLayer)        [(None, 224, 224, 3)]     0         \n",
      "                                                                 \n",
      " resnet50 (Functional)       (None, 7, 7, 2048)        23587712  \n",
      "                                                                 \n",
      " global_average_pooling2d (  (None, 2048)              0         \n",
      " GlobalAveragePooling2D)                                         \n",
      "                                                                 \n",
      " dropout (Dropout)           (None, 2048)              0         \n",
      "                                                                 \n",
      " dense (Dense)               (None, 2)                 4098      \n",
      "                                                                 \n",
      "=================================================================\n",
      "Total params: 23591810 (90.00 MB)\n",
      "Trainable params: 4098 (16.01 KB)\n",
      "Non-trainable params: 23587712 (89.98 MB)\n",
      "_________________________________________________________________\n"
     ]
    }
   ],
   "source": [
    "\n",
    "# ============================================\n",
    "# 4) Modèle = ResNet50 gelé + tête légère\n",
    "# ============================================\n",
    "from tensorflow.keras.applications.resnet import ResNet50\n",
    "from tensorflow.keras import models, optimizers\n",
    "\n",
    "base = ResNet50(weights=\"imagenet\", include_top=False, input_shape=IMG_SIZE+(3,))\n",
    "base.trainable = False  # phase 1: on gèle le backbone\n",
    "\n",
    "inputs = layers.Input(IMG_SIZE+(3,))\n",
    "x = base(inputs, training=False)\n",
    "x = layers.GlobalAveragePooling2D()(x)\n",
    "x = layers.Dropout(0.3)(x)\n",
    "outputs = layers.Dense(2, activation=\"softmax\")(x)\n",
    "model = models.Model(inputs, outputs)\n",
    "\n",
    "model.compile(\n",
    "    optimizer=optimizers.Adam(1e-3),\n",
    "    loss=\"sparse_categorical_crossentropy\",\n",
    "    metrics=[\"accuracy\"]\n",
    ")\n",
    "\n",
    "model.summary()\n"
   ]
  },
  {
   "cell_type": "code",
   "execution_count": 6,
   "id": "73659c5c",
   "metadata": {},
   "outputs": [],
   "source": [
    "\n",
    "# =======================\n",
    "# 5) Callbacks pratiques\n",
    "# =======================\n",
    "cbs = [\n",
    "    tf.keras.callbacks.EarlyStopping(patience=3, restore_best_weights=True, monitor=\"val_loss\"),\n",
    "    tf.keras.callbacks.ReduceLROnPlateau(factor=0.5, patience=3, monitor=\"val_loss\"),\n",
    "    tf.keras.callbacks.ModelCheckpoint(\"best_resnet_model.keras\", save_best_only=True, monitor=\"val_loss\"),\n",
    "]\n"
   ]
  },
  {
   "cell_type": "code",
   "execution_count": 7,
   "id": "5f7d3abc",
   "metadata": {},
   "outputs": [
    {
     "name": "stderr",
     "output_type": "stream",
     "text": [
      "2025-10-10 13:47:47.820432: I tensorflow/core/grappler/optimizers/custom_graph_optimizer_registry.cc:117] Plugin optimizer for device_type GPU is enabled.\n"
     ]
    },
    {
     "name": "stdout",
     "output_type": "stream",
     "text": [
      "Epoch 1/10\n"
     ]
    },
    {
     "name": "stderr",
     "output_type": "stream",
     "text": [
      "2025-10-10 13:47:48.865371: E tensorflow/core/grappler/optimizers/meta_optimizer.cc:961] model_pruner failed: INVALID_ARGUMENT: Graph does not contain terminal node Adam/AssignAddVariableOp.\n"
     ]
    },
    {
     "name": "stdout",
     "output_type": "stream",
     "text": [
      "104/104 [==============================] - 42s 388ms/step - loss: 0.3382 - accuracy: 0.8511 - val_loss: 0.2799 - val_accuracy: 0.8883 - lr: 0.0010\n",
      "Epoch 2/10\n",
      "104/104 [==============================] - 39s 377ms/step - loss: 0.2320 - accuracy: 0.9027 - val_loss: 0.2812 - val_accuracy: 0.8835 - lr: 0.0010\n",
      "Epoch 3/10\n",
      "104/104 [==============================] - 43s 411ms/step - loss: 0.2174 - accuracy: 0.9081 - val_loss: 0.2482 - val_accuracy: 0.9029 - lr: 0.0010\n",
      "Epoch 4/10\n",
      "104/104 [==============================] - 43s 412ms/step - loss: 0.2095 - accuracy: 0.9136 - val_loss: 0.2781 - val_accuracy: 0.8811 - lr: 0.0010\n",
      "Epoch 5/10\n",
      "104/104 [==============================] - 58s 559ms/step - loss: 0.2034 - accuracy: 0.9178 - val_loss: 0.2192 - val_accuracy: 0.9163 - lr: 0.0010\n",
      "Epoch 6/10\n",
      "104/104 [==============================] - 55s 529ms/step - loss: 0.1887 - accuracy: 0.9230 - val_loss: 0.2286 - val_accuracy: 0.9126 - lr: 0.0010\n",
      "Epoch 7/10\n",
      "104/104 [==============================] - 65s 624ms/step - loss: 0.1928 - accuracy: 0.9206 - val_loss: 0.2043 - val_accuracy: 0.9260 - lr: 0.0010\n",
      "Epoch 8/10\n",
      "104/104 [==============================] - 67s 633ms/step - loss: 0.1844 - accuracy: 0.9245 - val_loss: 0.2178 - val_accuracy: 0.9211 - lr: 0.0010\n",
      "Epoch 9/10\n",
      "104/104 [==============================] - 59s 538ms/step - loss: 0.1903 - accuracy: 0.9233 - val_loss: 0.2046 - val_accuracy: 0.9248 - lr: 0.0010\n",
      "Epoch 10/10\n",
      "104/104 [==============================] - 62s 598ms/step - loss: 0.1964 - accuracy: 0.9245 - val_loss: 0.1963 - val_accuracy: 0.9320 - lr: 0.0010\n"
     ]
    }
   ],
   "source": [
    "\n",
    "# ==============================\n",
    "# 6) Entraînement (phase 1 gelée)\n",
    "# ==============================\n",
    "history = model.fit(\n",
    "    train_ds_pp,\n",
    "    validation_data=val_ds_pp,\n",
    "    epochs=10,\n",
    "    class_weight=class_weight,\n",
    "    callbacks=cbs,\n",
    "    verbose=1\n",
    ")\n"
   ]
  },
  {
   "cell_type": "code",
   "execution_count": 8,
   "id": "7e64810b",
   "metadata": {},
   "outputs": [
    {
     "name": "stderr",
     "output_type": "stream",
     "text": [
      "WARNING:absl:At this time, the v2.11+ optimizer `tf.keras.optimizers.Adam` runs slowly on M1/M2 Macs, please use the legacy Keras optimizer instead, located at `tf.keras.optimizers.legacy.Adam`.\n"
     ]
    },
    {
     "name": "stdout",
     "output_type": "stream",
     "text": [
      "Epoch 1/10\n"
     ]
    },
    {
     "name": "stderr",
     "output_type": "stream",
     "text": [
      "2025-10-10 13:56:47.346733: E tensorflow/core/grappler/optimizers/meta_optimizer.cc:961] model_pruner failed: INVALID_ARGUMENT: Graph does not contain terminal node Adam/AssignAddVariableOp.\n"
     ]
    },
    {
     "name": "stdout",
     "output_type": "stream",
     "text": [
      "104/104 [==============================] - 53s 475ms/step - loss: 0.1601 - accuracy: 0.9360 - val_loss: 0.1955 - val_accuracy: 0.9345 - lr: 1.0000e-05\n",
      "Epoch 2/10\n",
      "104/104 [==============================] - 49s 473ms/step - loss: 0.1691 - accuracy: 0.9357 - val_loss: 0.1956 - val_accuracy: 0.9345 - lr: 1.0000e-05\n",
      "Epoch 3/10\n",
      "104/104 [==============================] - 48s 463ms/step - loss: 0.1655 - accuracy: 0.9348 - val_loss: 0.1956 - val_accuracy: 0.9333 - lr: 1.0000e-05\n",
      "Epoch 4/10\n",
      "104/104 [==============================] - 48s 456ms/step - loss: 0.1615 - accuracy: 0.9366 - val_loss: 0.1955 - val_accuracy: 0.9345 - lr: 1.0000e-05\n"
     ]
    }
   ],
   "source": [
    "\n",
    "# ====================================\n",
    "# 7) Fine-tuning léger (fin de conv5)\n",
    "# ====================================\n",
    "# Dégèle un petit paquet de couches terminales\n",
    "for l in base.layers[-30:]:\n",
    "    l.trainable = True\n",
    "\n",
    "model.compile(\n",
    "    optimizer=optimizers.Adam(1e-5),\n",
    "    loss=\"sparse_categorical_crossentropy\",\n",
    "    metrics=[\"accuracy\"]\n",
    ")\n",
    "\n",
    "history_ft = model.fit(\n",
    "    train_ds_pp,\n",
    "    validation_data=val_ds_pp,\n",
    "    epochs=10,\n",
    "    class_weight=class_weight,\n",
    "    callbacks=cbs,\n",
    "    verbose=1\n",
    ")\n"
   ]
  },
  {
   "cell_type": "code",
   "execution_count": 9,
   "id": "e6280c2d",
   "metadata": {},
   "outputs": [
    {
     "data": {
      "image/png": "[encoded data removed]",
      "text/plain": [
       "<Figure size 800x500 with 1 Axes>"
      ]
     },
     "metadata": {},
     "output_type": "display_data"
    },
    {
     "data": {
      "image/png": "[encoded data removed]",
      "text/plain": [
       "<Figure size 800x500 with 1 Axes>"
      ]
     },
     "metadata": {},
     "output_type": "display_data"
    }
   ],
   "source": [
    "import matplotlib.pyplot as plt\n",
    "\n",
    "def plot_training_curves(history, history_ft=None, savepath=None):\n",
    "    \"\"\"\n",
    "    Affiche loss et accuracy (train/val) pour l'entraînement (history)\n",
    "    et, si fourni, la phase de fine-tuning (history_ft).\n",
    "    \"\"\"\n",
    "    # Récupère les métriques\n",
    "    def extract(h):\n",
    "        return {\n",
    "            \"loss\": h.history.get(\"loss\", []),\n",
    "            \"val_loss\": h.history.get(\"val_loss\", []),\n",
    "            \"acc\": h.history.get(\"accuracy\", h.history.get(\"acc\", [])),\n",
    "            \"val_acc\": h.history.get(\"val_accuracy\", h.history.get(\"val_acc\", [])),\n",
    "        }\n",
    "    H = extract(history)\n",
    "    H_ft = extract(history_ft) if history_ft is not None else None\n",
    "\n",
    "    # Construit l'axe des epochs (concat si fine-tune)\n",
    "    e1 = list(range(1, len(H[\"loss\"]) + 1))\n",
    "    if H_ft:\n",
    "        e2 = list(range(len(e1) + 1, len(e1) + len(H_ft[\"loss\"]) + 1))\n",
    "    else:\n",
    "        e2 = []\n",
    "\n",
    "    # Plot LOSS\n",
    "    plt.figure(figsize=(8,5))\n",
    "    plt.plot(e1, H[\"loss\"], label=\"train loss (phase 1)\")\n",
    "    plt.plot(e1, H[\"val_loss\"], label=\"val loss (phase 1)\")\n",
    "    if H_ft:\n",
    "        plt.plot(e2, H_ft[\"loss\"], label=\"train loss (fine-tune)\")\n",
    "        plt.plot(e2, H_ft[\"val_loss\"], label=\"val loss (fine-tune)\")\n",
    "    plt.xlabel(\"Epoch\")\n",
    "    plt.ylabel(\"Loss\")\n",
    "    plt.title(\"Loss — entraînement\")\n",
    "    plt.legend()\n",
    "    plt.grid(True, alpha=0.3)\n",
    "    if savepath:\n",
    "        plt.savefig(f\"{savepath}_loss.png\", bbox_inches=\"tight\")\n",
    "    plt.show()\n",
    "\n",
    "    # Plot ACCURACY\n",
    "    plt.figure(figsize=(8,5))\n",
    "    plt.plot(e1, H[\"acc\"], label=\"train acc (phase 1)\")\n",
    "    plt.plot(e1, H[\"val_acc\"], label=\"val acc (phase 1)\")\n",
    "    if H_ft:\n",
    "        plt.plot(e2, H_ft[\"acc\"], label=\"train acc (fine-tune)\")\n",
    "        plt.plot(e2, H_ft[\"val_acc\"], label=\"val acc (fine-tune)\")\n",
    "    plt.xlabel(\"Epoch\")\n",
    "    plt.ylabel(\"Accuracy\")\n",
    "    plt.title(\"Accuracy — entraînement\")\n",
    "    plt.legend()\n",
    "    plt.grid(True, alpha=0.3)\n",
    "    if savepath:\n",
    "        plt.savefig(f\"{savepath}_acc.png\", bbox_inches=\"tight\")\n",
    "    plt.show()\n",
    "\n",
    "# Utilisation :\n",
    "plot_training_curves(history, history_ft)  # if fine-tuned\n",
    "# plot_training_curves(history)              # if one phase\n"
   ]
  },
  {
   "cell_type": "code",
   "execution_count": 10,
   "id": "3b7f8728",
   "metadata": {},
   "outputs": [
    {
     "name": "stdout",
     "output_type": "stream",
     "text": [
      "Seuil optimisé (F1) pour classe 1: 0.4686343\n",
      "\n",
      "Classification report (validation):\n",
      "                  precision    recall  f1-score   support\n",
      "\n",
      "no_deforestation       0.92      0.96      0.94       417\n",
      "   deforestation       0.96      0.91      0.93       407\n",
      "\n",
      "        accuracy                           0.94       824\n",
      "       macro avg       0.94      0.94      0.94       824\n",
      "    weighted avg       0.94      0.94      0.94       824\n",
      "\n",
      "Confusion matrix:\n",
      "[[401  16]\n",
      " [ 36 371]]\n"
     ]
    }
   ],
   "source": [
    "\n",
    "# =====================================================\n",
    "# 8) Évaluation avancée : meilleur seuil (F1) + rapport\n",
    "# =====================================================\n",
    "from sklearn.metrics import precision_recall_curve, classification_report, confusion_matrix\n",
    "\n",
    "# Collecte proba classe 1 sur validation\n",
    "y_true, y_prob1 = [], []\n",
    "for xb, yb in val_ds_pp:\n",
    "    pr = model.predict(xb, verbose=0)\n",
    "    y_true.append(yb.numpy())\n",
    "    y_prob1.append(pr[:,1])\n",
    "y_true  = np.concatenate(y_true)\n",
    "y_prob1 = np.concatenate(y_prob1)\n",
    "\n",
    "p, r, thr = precision_recall_curve(y_true, y_prob1)\n",
    "f1 = 2*p*r/(p+r+1e-9)\n",
    "best = np.argmax(f1)\n",
    "best_thr = thr[best] if best < len(thr) else 0.5\n",
    "print(\"Seuil optimisé (F1) pour classe 1:\", best_thr)\n",
    "\n",
    "y_pred = (y_prob1 >= best_thr).astype(int)\n",
    "print(\"\\nClassification report (validation):\")\n",
    "print(classification_report(y_true, y_pred, target_names=[\"no_deforestation\",\"deforestation\"]))\n",
    "print(\"Confusion matrix:\")\n",
    "print(confusion_matrix(y_true, y_pred))\n"
   ]
  },
  {
   "cell_type": "code",
   "execution_count": 11,
   "id": "c8dcaa84",
   "metadata": {},
   "outputs": [
    {
     "name": "stdout",
     "output_type": "stream",
     "text": [
      "Seuil F1 (TTA): 0.45434964\n"
     ]
    }
   ],
   "source": [
    "\n",
    "# ===========================\n",
    "# 9) (Option) TTA simple\n",
    "# ===========================\n",
    "import numpy as np\n",
    "\n",
    "def tta_preds(model, xb):\n",
    "    xs = [\n",
    "        xb,\n",
    "        tf.image.flip_left_right(xb),\n",
    "        tf.image.flip_up_down(xb),\n",
    "        tf.image.rot90(xb, 1),\n",
    "        tf.image.rot90(xb, 2),\n",
    "        tf.image.rot90(xb, 3),\n",
    "    ]\n",
    "    probs = [model.predict(x, verbose=0) for x in xs]\n",
    "    return np.mean(probs, axis=0)\n",
    "\n",
    "# Exemple d'usage TTA sur validation \n",
    "y_true_tta, y_prob1_tta = [], []\n",
    "for xb, yb in val_ds_pp:\n",
    "    pr = tta_preds(model, xb)\n",
    "    y_true_tta.append(yb.numpy())\n",
    "    y_prob1_tta.append(pr[:,1])\n",
    "y_true_tta  = np.concatenate(y_true_tta)\n",
    "y_prob1_tta = np.concatenate(y_prob1_tta)\n",
    "p, r, thr = precision_recall_curve(y_true_tta, y_prob1_tta)\n",
    "f1 = 2*p*r/(p+r+1e-9)\n",
    "best = np.argmax(f1)\n",
    "best_thr_tta = thr[best] if best < len(thr) else 0.5\n",
    "print(\"Seuil F1 (TTA):\", best_thr_tta)\n"
   ]
  },
  {
   "cell_type": "code",
   "execution_count": 12,
   "id": "799143b5",
   "metadata": {},
   "outputs": [
    {
     "name": "stdout",
     "output_type": "stream",
     "text": [
      "INFO:tensorflow:Assets written to: export/final_resnet_savedmodel_tf215/assets\n"
     ]
    },
    {
     "name": "stderr",
     "output_type": "stream",
     "text": [
      "INFO:tensorflow:Assets written to: export/final_resnet_savedmodel_tf215/assets\n"
     ]
    },
    {
     "name": "stdout",
     "output_type": "stream",
     "text": [
      "✅ SavedModel: export/final_resnet_savedmodel_tf215\n"
     ]
    },
    {
     "name": "stderr",
     "output_type": "stream",
     "text": [
      "/Users/victorouledi/miniforge3/envs/train-tf215/lib/python3.10/site-packages/keras/src/engine/training.py:3103: UserWarning: You are saving your model as an HDF5 file via `model.save()`. This file format is considered legacy. We recommend using instead the native Keras format, e.g. `model.save('my_model.keras')`.\n",
      "  saving_api.save_model(\n"
     ]
    },
    {
     "name": "stdout",
     "output_type": "stream",
     "text": [
      "✅ H5: export/final_resnet_tf215.h5\n",
      "✅ Keras: export/final_resnet_tf215.keras\n"
     ]
    },
    {
     "name": "stderr",
     "output_type": "stream",
     "text": [
      "WARNING:absl:At this time, the v2.11+ optimizer `tf.keras.optimizers.RestoredOptimizer` runs slowly on M1/M2 Macs, please use the legacy Keras optimizer instead, located at `tf.keras.optimizers.legacy.RestoredOptimizer`.\n",
      "2025-10-10 14:01:12.124312: W tensorflow/compiler/mlir/lite/python/tf_tfl_flatbuffer_helpers.cc:378] Ignored output_format.\n",
      "2025-10-10 14:01:12.124324: W tensorflow/compiler/mlir/lite/python/tf_tfl_flatbuffer_helpers.cc:381] Ignored drop_control_dependency.\n",
      "2025-10-10 14:01:12.128961: I tensorflow/cc/saved_model/reader.cc:83] Reading SavedModel from: export/final_resnet_savedmodel_tf215\n",
      "2025-10-10 14:01:12.145388: I tensorflow/cc/saved_model/reader.cc:51] Reading meta graph with tags { serve }\n",
      "2025-10-10 14:01:12.145398: I tensorflow/cc/saved_model/reader.cc:146] Reading SavedModel debug info (if present) from: export/final_resnet_savedmodel_tf215\n",
      "2025-10-10 14:01:12.173137: I tensorflow/compiler/mlir/mlir_graph_optimization_pass.cc:388] MLIR V1 optimization pass is not enabled\n",
      "2025-10-10 14:01:12.186023: I tensorflow/cc/saved_model/loader.cc:233] Restoring SavedModel bundle.\n",
      "2025-10-10 14:01:12.575823: I tensorflow/cc/saved_model/loader.cc:217] Running initialization op on SavedModel bundle at path: export/final_resnet_savedmodel_tf215\n",
      "2025-10-10 14:01:12.686781: I tensorflow/cc/saved_model/loader.cc:316] SavedModel load for tags { serve }; Status: success: OK. Took 557825 microseconds.\n",
      "2025-10-10 14:01:12.796290: I tensorflow/compiler/mlir/tensorflow/utils/dump_mlir_util.cc:269] disabling MLIR crash reproducer, set env var `MLIR_CRASH_REPRODUCER_DIRECTORY` to enable.\n",
      "Summary on the non-converted ops:\n",
      "---------------------------------\n",
      " * Accepted dialects: tfl, builtin, func\n",
      " * Non-Converted Ops: 111, Total Ops 189, % non-converted = 58.73 %\n",
      " * 111 ARITH ops\n",
      "\n",
      "- arith.constant:  111 occurrences  (f32: 108, i32: 3)\n",
      "\n",
      "\n",
      "\n",
      "  (f32: 16)\n",
      "  (f32: 53)\n",
      "  (f32: 1)\n",
      "  (f32: 1)\n",
      "  (f32: 1)\n",
      "  (f32: 2)\n",
      "  (f32: 1)\n"
     ]
    },
    {
     "name": "stdout",
     "output_type": "stream",
     "text": [
      "✅ TFLite FP32: export/final_resnet_tf215_fp32.tflite\n"
     ]
    },
    {
     "name": "stderr",
     "output_type": "stream",
     "text": [
      "WARNING:absl:At this time, the v2.11+ optimizer `tf.keras.optimizers.RestoredOptimizer` runs slowly on M1/M2 Macs, please use the legacy Keras optimizer instead, located at `tf.keras.optimizers.legacy.RestoredOptimizer`.\n",
      "2025-10-10 14:01:17.185029: W tensorflow/compiler/mlir/lite/python/tf_tfl_flatbuffer_helpers.cc:378] Ignored output_format.\n",
      "2025-10-10 14:01:17.185041: W tensorflow/compiler/mlir/lite/python/tf_tfl_flatbuffer_helpers.cc:381] Ignored drop_control_dependency.\n",
      "2025-10-10 14:01:17.185212: I tensorflow/cc/saved_model/reader.cc:83] Reading SavedModel from: export/final_resnet_savedmodel_tf215\n",
      "2025-10-10 14:01:17.199788: I tensorflow/cc/saved_model/reader.cc:51] Reading meta graph with tags { serve }\n",
      "2025-10-10 14:01:17.199799: I tensorflow/cc/saved_model/reader.cc:146] Reading SavedModel debug info (if present) from: export/final_resnet_savedmodel_tf215\n",
      "2025-10-10 14:01:17.238419: I tensorflow/cc/saved_model/loader.cc:233] Restoring SavedModel bundle.\n",
      "2025-10-10 14:01:17.638753: I tensorflow/cc/saved_model/loader.cc:217] Running initialization op on SavedModel bundle at path: export/final_resnet_savedmodel_tf215\n",
      "2025-10-10 14:01:17.764113: I tensorflow/cc/saved_model/loader.cc:316] SavedModel load for tags { serve }; Status: success: OK. Took 578900 microseconds.\n",
      "Summary on the non-converted ops:\n",
      "---------------------------------\n",
      " * Accepted dialects: tfl, builtin, func\n",
      " * Non-Converted Ops: 111, Total Ops 189, % non-converted = 58.73 %\n",
      " * 111 ARITH ops\n",
      "\n",
      "- arith.constant:  111 occurrences  (f32: 108, i32: 3)\n",
      "\n",
      "\n",
      "\n",
      "  (f32: 16)\n",
      "  (f32: 53)\n",
      "  (f32: 1)\n",
      "  (f32: 1)\n",
      "  (f32: 1)\n",
      "  (f32: 2)\n",
      "  (f32: 1)\n",
      "fully_quantize: 0, inference_type: 6, input_inference_type: INT8, output_inference_type: INT8\n"
     ]
    },
    {
     "name": "stdout",
     "output_type": "stream",
     "text": [
      "✅ TFLite INT8: export/final_resnet_tf215_int8.tflite\n",
      "✅ model_config.json enregistré\n"
     ]
    }
   ],
   "source": [
    "\n",
    "# # =====================================\n",
    "# # 10) Sauvegarde du modèle & signature\n",
    "# # =====================================\n",
    "# import json\n",
    "# from tensorflow.keras.models import load_model\n",
    "\n",
    "# model.save(\"final_resnet_model.keras\")  \n",
    "\n",
    "# # Sauvegarde des métadonnées\n",
    "# config = {\n",
    "#     \"class_names\": [\"no_deforestation\", \"deforestation\"],\n",
    "#     \"img_size\": [224, 224],\n",
    "#     \"threshold\": float(best_thr_tta)  # si tu as calibré un seuil F1\n",
    "# }\n",
    "# with open(\"model_config.json\", \"w\") as f:\n",
    "#     json.dump(config, f)\n",
    "\n",
    "# print(\"Modèles enregistrés:\",\n",
    "#       \"\\n - best_resnet_model.keras (checkpoint)\",\n",
    "#       \"\\n - final_resnet_model.keras (dernier état)\")\n",
    "\n",
    "\n",
    "# ==============================\n",
    "# Export multi-format (TF/Keras 2.15)\n",
    "# ==============================\n",
    "import json\n",
    "from pathlib import Path\n",
    "import tensorflow as tf\n",
    "from tensorflow import keras\n",
    "\n",
    "EXPORT_DIR = Path(\"export\")\n",
    "EXPORT_DIR.mkdir(exist_ok=True, parents=True)\n",
    "\n",
    "# 1) SavedModel (le plus tolérant entre versions)\n",
    "savedmodel_dir = EXPORT_DIR / \"final_resnet_savedmodel_tf215\"\n",
    "tf.saved_model.save(model, str(savedmodel_dir))\n",
    "print(f\"✅ SavedModel: {savedmodel_dir}\")\n",
    "\n",
    "# 2) HDF5 (chargement simple, tf.keras 2.15) — ici on PEUT passer include_optimizer\n",
    "h5_path = EXPORT_DIR / \"final_resnet_tf215.h5\"\n",
    "model.save(str(h5_path), include_optimizer=False)\n",
    "print(f\"✅ H5: {h5_path}\")\n",
    "\n",
    "# 3) Format Keras natif (.keras) — NE PAS passer include_optimizer\n",
    "keras_path = EXPORT_DIR / \"final_resnet_tf215.keras\"\n",
    "model.save(str(keras_path))\n",
    "print(f\"✅ Keras: {keras_path}\")\n",
    "\n",
    "# 4) TFLite (float32)\n",
    "converter = tf.lite.TFLiteConverter.from_saved_model(str(savedmodel_dir))\n",
    "tflite_fp32 = converter.convert()\n",
    "fp32_path = EXPORT_DIR / \"final_resnet_tf215_fp32.tflite\"\n",
    "fp32_path.write_bytes(tflite_fp32)\n",
    "print(f\"✅ TFLite FP32: {fp32_path}\")\n",
    "\n",
    "# 4b) TFLite INT8 (optionnel) — nécessite un dataset de calibration\n",
    "def representative_dataset():\n",
    "    calib_dir = Path(\"calib\")\n",
    "    if calib_dir.exists():\n",
    "        from PIL import Image\n",
    "        import numpy as np\n",
    "        from tensorflow.keras.applications.resnet import preprocess_input\n",
    "        for img_path in list(calib_dir.glob(\"**/*\"))[:200]:\n",
    "            try:\n",
    "                img = Image.open(img_path).convert(\"RGB\").resize((224, 224))\n",
    "                arr = np.asarray(img, dtype=np.float32)\n",
    "                arr = preprocess_input(arr)\n",
    "                yield [np.expand_dims(arr, 0)]\n",
    "            except Exception:\n",
    "                pass\n",
    "\n",
    "converter = tf.lite.TFLiteConverter.from_saved_model(str(savedmodel_dir))\n",
    "converter.optimizations = [tf.lite.Optimize.DEFAULT]\n",
    "converter.representative_dataset = representative_dataset\n",
    "converter.target_spec.supported_ops = [tf.lite.OpsSet.TFLITE_BUILTINS_INT8]\n",
    "converter.inference_input_type = tf.int8\n",
    "converter.inference_output_type = tf.int8\n",
    "\n",
    "try:\n",
    "    tflite_int8 = converter.convert()\n",
    "    int8_path = EXPORT_DIR / \"final_resnet_tf215_int8.tflite\"\n",
    "    int8_path.write_bytes(tflite_int8)\n",
    "    print(f\"✅ TFLite INT8: {int8_path}\")\n",
    "except Exception as e:\n",
    "    print(f\"⚠️ INT8 non généré: {e}\")\n",
    "\n",
    "# 5) Métadonnées\n",
    "config = {\n",
    "    \"class_names\": [\"no_deforestation\", \"deforestation\"],\n",
    "    \"img_size\": [224, 224],\n",
    "    \"threshold\": 0.5\n",
    "}\n",
    "(EXPORT_DIR / \"model_config.json\").write_text(json.dumps(config, indent=2), encoding=\"utf-8\")\n",
    "print(\"✅ model_config.json enregistré\")\n",
    "\n"
   ]
  },
  {
   "cell_type": "markdown",
   "id": "b8c4b3f2",
   "metadata": {},
   "source": [
    "## Inférence"
   ]
  },
  {
   "cell_type": "code",
   "execution_count": 13,
   "id": "366a5a85",
   "metadata": {},
   "outputs": [
    {
     "name": "stdout",
     "output_type": "stream",
     "text": [
      "Config chargée depuis /Users/victorouledi/Documents/2025-2026/ADS/export/model_config.json\n",
      "Modèle chargé: final_resnet_tf215_int8.tflite\n",
      "Entrée: dtype=<class 'numpy.float32'>, shape=[  1 224 224   3], quant=(scale=0.0, zp=0), index=0\n",
      "Sortie: dtype=<class 'numpy.int8'>, shape=[1 2], quant=(scale=0.00390625, zp=-128), index=187\n"
     ]
    },
    {
     "name": "stderr",
     "output_type": "stream",
     "text": [
      "INFO: Created TensorFlow Lite XNNPACK delegate for CPU.\n"
     ]
    },
    {
     "data": {
      "application/vnd.jupyter.widget-view+json": {
       "model_id": "2f2936b85cb14806b60f972900ecae76",
       "version_major": 2,
       "version_minor": 0
      },
      "text/plain": [
       "VBox(children=(HTML(value='<b>🖼️ Inférence locale — Modèle: final_resnet_tf215_int8.tflite</b>'), FileUpload(v…"
      ]
     },
     "metadata": {},
     "output_type": "display_data"
    }
   ],
   "source": [
    "import io, json\n",
    "import numpy as np\n",
    "from pathlib import Path\n",
    "from PIL import Image\n",
    "import ipywidgets as widgets\n",
    "from IPython.display import display, clear_output\n",
    "\n",
    "# TFLite INT8 + prétraitement ResNet (TF 2.15 OK)\n",
    "import tensorflow as tf\n",
    "from tensorflow.keras.applications.resnet import preprocess_input\n",
    "\n",
    "# ---------- Paths (dossier `export/`) ----------\n",
    "BASE_DIR = Path.cwd()\n",
    "MODEL_DIR = BASE_DIR / \"export\"\n",
    "MODEL_PATH = MODEL_DIR / \"final_resnet_tf215_int8.tflite\"   # ✅ le plus compact\n",
    "CONFIG_PATH = MODEL_DIR / \"model_config.json\"\n",
    "\n",
    "# ---------- Config (si présente) ----------\n",
    "CLASS_NAMES = [\"no_deforestation\", \"deforestation\"]\n",
    "IMG_SIZE = (224, 224)\n",
    "THRESHOLD = 0.3886613\n",
    "\n",
    "if CONFIG_PATH.exists():\n",
    "    try:\n",
    "        with open(CONFIG_PATH) as f:\n",
    "            cfg = json.load(f)\n",
    "        CLASS_NAMES = cfg.get(\"class_names\", CLASS_NAMES)\n",
    "        IMG_SIZE = tuple(cfg.get(\"img_size\", list(IMG_SIZE)))\n",
    "        THRESHOLD = float(cfg.get(\"threshold\", THRESHOLD))\n",
    "        print(f\"Config chargée depuis {CONFIG_PATH}\")\n",
    "    except Exception as e:\n",
    "        print(f\"[WARN] Impossible de lire {CONFIG_PATH}: {e}\")\n",
    "\n",
    "# ---------- Modèle TFLite ----------\n",
    "if not MODEL_PATH.exists():\n",
    "    raise FileNotFoundError(f\"Modèle introuvable: {MODEL_PATH}\")\n",
    "\n",
    "interpreter = tf.lite.Interpreter(model_path=str(MODEL_PATH))\n",
    "interpreter.allocate_tensors()\n",
    "input_details  = interpreter.get_input_details()\n",
    "output_details = interpreter.get_output_details()\n",
    "\n",
    "# On suppose 1 entrée / 1 sortie\n",
    "inp = input_details[0]\n",
    "out = output_details[0]\n",
    "\n",
    "def _get(d, key, default=None):\n",
    "    \"\"\"Accès champ dict ou attribut objet.\"\"\"\n",
    "    if isinstance(d, dict):\n",
    "        return d.get(key, default)\n",
    "    return getattr(d, key, default)\n",
    "\n",
    "def _get_quant_params(d):\n",
    "    \"\"\"Retourne (scale, zero_point) pour dict ou objet.\"\"\"\n",
    "    q = _get(d, \"quantization\", None)\n",
    "    if isinstance(q, tuple) and len(q) == 2:\n",
    "        return float(q[0]), int(q[1])\n",
    "    qp = _get(d, \"quantization_parameters\", None)\n",
    "    if qp is not None:\n",
    "        # objet avec attributs\n",
    "        scales = getattr(qp, \"scales\", None)\n",
    "        zps    = getattr(qp, \"zero_points\", None)\n",
    "        if scales is not None and len(scales) > 0:\n",
    "            zp0 = int(zps[0]) if (zps is not None and len(zps) > 0) else 0\n",
    "            return float(scales[0]), zp0\n",
    "        # dict\n",
    "        if isinstance(qp, dict) and \"scales\" in qp:\n",
    "            sc = qp[\"scales\"]\n",
    "            zp = qp.get(\"zero_points\", [0])\n",
    "            if len(sc) > 0:\n",
    "                return float(sc[0]), int(zp[0] if len(zp) > 0 else 0)\n",
    "    return 0.0, 0\n",
    "\n",
    "def _tensor_index(d):\n",
    "    \"\"\"Retourne l'index de tenseur pour dict/objet, sinon lève une erreur explicite.\"\"\"\n",
    "    for k in (\"index\", \"tensor_index\"):\n",
    "        v = _get(d, k, None)\n",
    "        if v is not None:\n",
    "            return int(v)\n",
    "    raise ValueError(f\"Impossible de trouver l'index du tenseur dans: {d}\")\n",
    "\n",
    "# Infos I/O + quantization\n",
    "in_dtype  = _get(inp, \"dtype\")\n",
    "in_shape  = _get(inp, \"shape\")\n",
    "out_dtype = _get(out, \"dtype\")\n",
    "out_shape = _get(out, \"shape\")\n",
    "in_scale,  in_zp  = _get_quant_params(inp)\n",
    "out_scale, out_zp = _get_quant_params(out)\n",
    "in_index  = _tensor_index(inp)\n",
    "out_index = _tensor_index(out)\n",
    "\n",
    "print(f\"Modèle chargé: {MODEL_PATH.name}\")\n",
    "print(f\"Entrée: dtype={in_dtype}, shape={in_shape}, quant=(scale={in_scale}, zp={in_zp}), index={in_index}\")\n",
    "print(f\"Sortie: dtype={out_dtype}, shape={out_shape}, quant=(scale={out_scale}, zp={out_zp}), index={out_index}\")\n",
    "\n",
    "# ---------- Utilitaires ----------\n",
    "def preprocess_pil(img: Image.Image, img_size=IMG_SIZE):\n",
    "    \"\"\"Prétraitement ResNet (ImageNet). Retourne un batch (1,H,W,3) float32 préprocessé.\"\"\"\n",
    "    img = img.convert(\"RGB\").resize(img_size)\n",
    "    arr = np.asarray(img, dtype=np.float32)\n",
    "    arr = preprocess_input(arr)         # même normalisation que l’entraînement (ResNet)\n",
    "    return np.expand_dims(arr, 0)       # (1,H,W,3)\n",
    "\n",
    "def _quantize_input(x_fp32: np.ndarray) -> np.ndarray:\n",
    "    \"\"\"Quantifie en int8 selon les paramètres du modèle (scale, zero_point).\"\"\"\n",
    "    if in_dtype == np.int8 and in_scale > 0:\n",
    "        x_q = np.round(x_fp32 / in_scale + in_zp)\n",
    "        x_q = np.clip(x_q, -128, 127).astype(np.int8)\n",
    "        return x_q\n",
    "    # Cas float (si l'entrée attend du float)\n",
    "    return x_fp32.astype(in_dtype)\n",
    "\n",
    "def _dequantize_output(y_q: np.ndarray) -> np.ndarray:\n",
    "    \"\"\"Déquantifie la sortie int8 en float32 si nécessaire.\"\"\"\n",
    "    if out_dtype == np.int8 and out_scale > 0:\n",
    "        return (y_q.astype(np.float32) - out_zp) * out_scale\n",
    "    return y_q.astype(np.float32)\n",
    "\n",
    "def _run_inference(arr_fp32: np.ndarray) -> np.ndarray:\n",
    "    \"\"\"Exécute une inférence (arr_fp32: (1,H,W,3) float32) => proba float32.\"\"\"\n",
    "    x_in = _quantize_input(arr_fp32)\n",
    "    interpreter.set_tensor(in_index, x_in)\n",
    "    interpreter.invoke()\n",
    "    y = interpreter.get_tensor(out_index)\n",
    "    y = _dequantize_output(y)  # (1, num_classes) en float32\n",
    "    return y\n",
    "\n",
    "def _np_flip_lr(x):  # (1,H,W,3)\n",
    "    return x[:, :, ::-1, :]\n",
    "\n",
    "def _np_flip_ud(x):\n",
    "    return x[:, ::-1, :, :]\n",
    "\n",
    "def _np_rot90(x, k=1):\n",
    "    return np.rot90(x, k=k, axes=(1, 2)).copy()  # copy() pour contiguïté mémoire\n",
    "\n",
    "def tta_predict_proba(arr_fp32: np.ndarray) -> np.ndarray:\n",
    "    \"\"\"TTA côté NumPy : flips & rotations, moyenne des sorties (float32).\"\"\"\n",
    "    views = [\n",
    "        arr_fp32,\n",
    "        _np_flip_lr(arr_fp32),\n",
    "        _np_flip_ud(arr_fp32),\n",
    "        _np_rot90(arr_fp32, 1),\n",
    "        _np_rot90(arr_fp32, 2),\n",
    "        _np_rot90(arr_fp32, 3),\n",
    "    ]\n",
    "    preds = [_run_inference(v) for v in views]         # liste de (1,C)\n",
    "    proba = np.mean(np.stack(preds, axis=0), axis=0)   # (1,C) moyenne TTA\n",
    "    return proba\n",
    "\n",
    "# ---------- Widgets ----------\n",
    "uploader = widgets.FileUpload(accept=\"image/*\", multiple=False)\n",
    "btn = widgets.Button(description=\"Prédire\", button_style=\"primary\", icon=\"check\")\n",
    "out = widgets.Output()\n",
    "\n",
    "def _get_first_file(upl: widgets.FileUpload):\n",
    "    \"\"\"Return (name, bytes) for the first uploaded file, handling both dict/tuple APIs.\"\"\"\n",
    "    v = upl.value\n",
    "    if isinstance(v, dict) and v:              # Ancienne API\n",
    "        item = next(iter(v.values()))\n",
    "    elif isinstance(v, tuple) and len(v) > 0:  # Nouvelle API\n",
    "        item = v[0]\n",
    "    else:\n",
    "        return None, None\n",
    "    name = item.get(\"name\", \"uploaded\")\n",
    "    content = item.get(\"content\", None)\n",
    "    if content is None:\n",
    "        return None, None\n",
    "    if isinstance(content, memoryview):\n",
    "        content = content.tobytes()\n",
    "    elif isinstance(content, bytearray):\n",
    "        content = bytes(content)\n",
    "    return name, content\n",
    "\n",
    "def on_predict_clicked(_):\n",
    "    with out:\n",
    "        clear_output(wait=True)\n",
    "        name, img_bytes = _get_first_file(uploader)\n",
    "        if img_bytes is None:\n",
    "            print(\"⚠️ Sélectionne d'abord une image.\")\n",
    "            return\n",
    "        try:\n",
    "            img = Image.open(io.BytesIO(img_bytes))\n",
    "        except Exception as e:\n",
    "            print(f\"Erreur d'ouverture de l'image: {e}\")\n",
    "            return\n",
    "\n",
    "        display(img)\n",
    "\n",
    "        # Prétraitement + prédiction (TTA toujours activé)\n",
    "        arr = preprocess_pil(img, IMG_SIZE)         # float32 (1,H,W,3)\n",
    "        proba = tta_predict_proba(arr)              # float32 (1,num_classes)\n",
    "        proba = proba[0]                            # (num_classes,)\n",
    "\n",
    "        if len(CLASS_NAMES) == 2 and CLASS_NAMES[1] == \"deforestation\":\n",
    "            is_def = float(proba[1]) >= THRESHOLD\n",
    "            decision = \"deforestation ✅\" if is_def else \"no_deforestation ✅\"\n",
    "            print(f\"\\nPrédiction (TTA, seuil {THRESHOLD:.3f}) : {decision}\")\n",
    "        else:\n",
    "            idx = int(np.argmax(proba))\n",
    "            print(f\"\\nClasse prédite : {CLASS_NAMES[idx]}\")\n",
    "\n",
    "        probs_dict = {c: float(p) for c, p in zip(CLASS_NAMES, proba)}\n",
    "        print(\"Probabilités  :\", probs_dict)\n",
    "\n",
    "btn.on_click(on_predict_clicked)\n",
    "\n",
    "display(widgets.VBox([\n",
    "    widgets.HTML(f\"<b>🖼️ Inférence locale — Modèle: {MODEL_PATH.name}</b>\"),\n",
    "    uploader,\n",
    "    btn,\n",
    "    out\n",
    "]))\n",
    "\n"
   ]
  },
  {
   "cell_type": "code",
   "execution_count": null,
   "id": "4db19745",
   "metadata": {},
   "outputs": [],
   "source": []
  }
 ],
 "metadata": {
  "kernelspec": {
   "display_name": "train-tf215",
   "language": "python",
   "name": "python3"
  },
  "language_info": {
   "codemirror_mode": {
    "name": "ipython",
    "version": 3
   },
   "file_extension": ".py",
   "mimetype": "text/x-python",
   "name": "python",
   "nbconvert_exporter": "python",
   "pygments_lexer": "ipython3",
   "version": "3.10.18"
  }
 },
 "nbformat": 4,
 "nbformat_minor": 5
}
